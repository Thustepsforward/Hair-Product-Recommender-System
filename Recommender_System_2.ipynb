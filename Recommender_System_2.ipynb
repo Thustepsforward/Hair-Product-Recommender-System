{
  "nbformat": 4,
  "nbformat_minor": 0,
  "metadata": {
    "colab": {
      "provenance": []
    },
    "kernelspec": {
      "name": "python3",
      "display_name": "Python 3"
    },
    "language_info": {
      "name": "python"
    }
  },
  "cells": [
    {
      "cell_type": "markdown",
      "source": [
        "# **System 2: Recommendations Based on Selected Product's Ingredients**"
      ],
      "metadata": {
        "id": "X3--QzGtHRoe"
      }
    },
    {
      "cell_type": "code",
      "execution_count": 1,
      "metadata": {
        "colab": {
          "base_uri": "https://localhost:8080/"
        },
        "id": "_w6IrHlaSJEK",
        "outputId": "ef153150-2c0e-41cc-9899-ecd77359ac2e"
      },
      "outputs": [
        {
          "output_type": "stream",
          "name": "stdout",
          "text": [
            "Mounted at /content/drive\n"
          ]
        }
      ],
      "source": [
        "from google.colab import drive\n",
        "\n",
        "drive.mount('/content/drive')"
      ]
    },
    {
      "cell_type": "code",
      "source": [
        "!pip install pyspark"
      ],
      "metadata": {
        "colab": {
          "base_uri": "https://localhost:8080/"
        },
        "id": "U3PLZn_NSa0Q",
        "outputId": "327a855e-4c5d-426c-f75c-dd9f5afbc419"
      },
      "execution_count": 3,
      "outputs": [
        {
          "output_type": "stream",
          "name": "stdout",
          "text": [
            "Collecting pyspark\n",
            "  Downloading pyspark-3.5.1.tar.gz (317.0 MB)\n",
            "\u001b[2K     \u001b[90m━━━━━━━━━━━━━━━━━━━━━━━━━━━━━━━━━━━━━━━━\u001b[0m \u001b[32m317.0/317.0 MB\u001b[0m \u001b[31m4.8 MB/s\u001b[0m eta \u001b[36m0:00:00\u001b[0m\n",
            "\u001b[?25h  Preparing metadata (setup.py) ... \u001b[?25l\u001b[?25hdone\n",
            "Requirement already satisfied: py4j==0.10.9.7 in /usr/local/lib/python3.10/dist-packages (from pyspark) (0.10.9.7)\n",
            "Building wheels for collected packages: pyspark\n",
            "  Building wheel for pyspark (setup.py) ... \u001b[?25l\u001b[?25hdone\n",
            "  Created wheel for pyspark: filename=pyspark-3.5.1-py2.py3-none-any.whl size=317488490 sha256=43346e5e36cdba2d60cf03bd24804fe166070e8f079a0b7bce616599fa90ce3c\n",
            "  Stored in directory: /root/.cache/pip/wheels/80/1d/60/2c256ed38dddce2fdd93be545214a63e02fbd8d74fb0b7f3a6\n",
            "Successfully built pyspark\n",
            "Installing collected packages: pyspark\n",
            "Successfully installed pyspark-3.5.1\n"
          ]
        }
      ]
    },
    {
      "cell_type": "code",
      "source": [
        "from pyspark.ml.feature import Tokenizer, HashingTF, IDF, StringIndexer, VectorAssembler\n",
        "from pyspark.sql.functions import col, udf\n",
        "from pyspark.sql.types import FloatType\n",
        "from pyspark.sql import SparkSession"
      ],
      "metadata": {
        "id": "TcdmDeJCXgJs"
      },
      "execution_count": 5,
      "outputs": []
    },
    {
      "cell_type": "code",
      "source": [
        "# Initialize Spark Session\n",
        "spark = SparkSession.builder.appName(\"HairProductRecommenderSystem2\").getOrCreate()\n",
        "\n",
        "# Verify Spark Session\n",
        "spark"
      ],
      "metadata": {
        "colab": {
          "base_uri": "https://localhost:8080/",
          "height": 219
        },
        "id": "4FnUNW21Sd-Q",
        "outputId": "738589d4-756b-4673-da21-8a40a443cfd9"
      },
      "execution_count": 6,
      "outputs": [
        {
          "output_type": "execute_result",
          "data": {
            "text/plain": [
              "<pyspark.sql.session.SparkSession at 0x7aae6bc4e3e0>"
            ],
            "text/html": [
              "\n",
              "            <div>\n",
              "                <p><b>SparkSession - in-memory</b></p>\n",
              "                \n",
              "        <div>\n",
              "            <p><b>SparkContext</b></p>\n",
              "\n",
              "            <p><a href=\"http://070f7603e143:4040\">Spark UI</a></p>\n",
              "\n",
              "            <dl>\n",
              "              <dt>Version</dt>\n",
              "                <dd><code>v3.5.1</code></dd>\n",
              "              <dt>Master</dt>\n",
              "                <dd><code>local[*]</code></dd>\n",
              "              <dt>AppName</dt>\n",
              "                <dd><code>HairProductRecommenderSystem2</code></dd>\n",
              "            </dl>\n",
              "        </div>\n",
              "        \n",
              "            </div>\n",
              "        "
            ]
          },
          "metadata": {},
          "execution_count": 6
        }
      ]
    },
    {
      "cell_type": "markdown",
      "source": [
        "# **Data Preparation**"
      ],
      "metadata": {
        "id": "jI8MKnWqUXgI"
      }
    },
    {
      "cell_type": "markdown",
      "source": [
        "**Load Datasets**"
      ],
      "metadata": {
        "id": "4QQFZGq-UQH3"
      }
    },
    {
      "cell_type": "code",
      "source": [
        "# Ulta\n",
        "ulta_products = spark.read.csv('/content/drive/MyDrive/Capstone Project - Summer 2024/Final Datasets/ulta_products_final.csv', header=True, inferSchema=True)\n",
        "ulta_product_description = spark.read.csv('/content/drive/MyDrive/Capstone Project - Summer 2024/Final Datasets/ulta_product_description_final.csv', header=True, inferSchema=True)\n",
        "ulta_ingredients = spark.read.csv('/content/drive/MyDrive/Capstone Project - Summer 2024/Final Datasets/ulta_ingredients_final.csv', header=True, inferSchema=True)\n",
        "\n",
        "# Target\n",
        "target_products = spark.read.csv('/content/drive/MyDrive/Capstone Project - Summer 2024/Cleaned Datasets From Web Scraping - Part 1/Target_products.csv', header=True, inferSchema=True)\n",
        "target_product_description = spark.read.csv('/content/drive/MyDrive/Capstone Project - Summer 2024/Final Datasets/Target_product_description_final.csv', header=True, inferSchema=True)\n",
        "target_ingredients = spark.read.csv('/content/drive/MyDrive/Capstone Project - Summer 2024/Final Datasets/Target_ingredients_final.csv', header=True, inferSchema=True)"
      ],
      "metadata": {
        "id": "TaBbaTCNUOkF"
      },
      "execution_count": 7,
      "outputs": []
    },
    {
      "cell_type": "markdown",
      "source": [
        "**Check if the \"Brand\" and \"Product Name\" values are correct.**"
      ],
      "metadata": {
        "id": "yBbc1-OnA-_y"
      }
    },
    {
      "cell_type": "code",
      "source": [
        "ulta_products.show(5)"
      ],
      "metadata": {
        "colab": {
          "base_uri": "https://localhost:8080/"
        },
        "id": "wgiPZNbQMYYi",
        "outputId": "008fc1f8-8790-4876-e2ca-68cde79682eb"
      },
      "execution_count": 52,
      "outputs": [
        {
          "output_type": "stream",
          "name": "stdout",
          "text": [
            "+----------------+--------------------+----------------+------+-----------------+--------------------+------------+----------+\n",
            "|           Brand|        Product Name|           Price|Rating|Number of Ratings|                Link|Product Type|Product ID|\n",
            "+----------------+--------------------+----------------+------+-----------------+--------------------+------------+----------+\n",
            "|NatureLab. Tokyo|Perfect Clean 2-I...|         $19.00 |   4.7|             1027|https://www.ulta....|     Shampoo|        U1|\n",
            "|       Color Wow|Dream Filter Pre-...|         $24.00 |   4.6|             2172|https://www.ulta....|     Shampoo|        U2|\n",
            "|        Viviscal|Volumizing Dry Sh...|         $19.99 |   4.5|              225|https://www.ulta....|     Shampoo|        U3|\n",
            "|         Garnier|Fructis Hair Fill...|          $9.99 |   4.6|              224|https://www.ulta....|     Shampoo|        U4|\n",
            "|         Biolage|  Color Last Shampoo|$24.00 - $42.00 |   4.5|             3378|https://www.ulta....|     Shampoo|        U5|\n",
            "+----------------+--------------------+----------------+------+-----------------+--------------------+------------+----------+\n",
            "only showing top 5 rows\n",
            "\n"
          ]
        }
      ]
    },
    {
      "cell_type": "code",
      "source": [
        "target_products.show(5)"
      ],
      "metadata": {
        "colab": {
          "base_uri": "https://localhost:8080/"
        },
        "id": "5B78_nOSOdOG",
        "outputId": "ffb48d57-b962-4e32-e854-77bd9bb56fd0"
      },
      "execution_count": 53,
      "outputs": [
        {
          "output_type": "stream",
          "name": "stdout",
          "text": [
            "+--------------------+------------+---------------+------+-----------------+--------------------+------------+----------+\n",
            "|        Product Name|       Brand|          Price|Rating|Number of Ratings|                Link|Product Type|Product ID|\n",
            "+--------------------+------------+---------------+------+-----------------+--------------------+------------+----------+\n",
            "|Eva NYC Freshen U...|     Eva NYC|         $13.99|   4.5|             3177|https://www.targe...|     Shampoo|        T1|\n",
            "|Batiste Tropical ...|     Batiste|  $4.39 - $8.99|   4.5|             1303|https://www.targe...|     Shampoo|        T2|\n",
            "|Batiste Tropical ...|     Batiste|         $12.99|   4.7|              321|https://www.targe...|     Shampoo|        T3|\n",
            "|Batiste Fresh Bre...|     Batiste|          $8.99|   4.6|              321|https://www.targe...|     Shampoo|        T4|\n",
            "|Living Proof Perf...|Living Proof|$16.00 - $43.00|   4.5|             2858|https://www.targe...|     Shampoo|        T5|\n",
            "+--------------------+------------+---------------+------+-----------------+--------------------+------------+----------+\n",
            "only showing top 5 rows\n",
            "\n"
          ]
        }
      ]
    },
    {
      "cell_type": "markdown",
      "source": [
        "# **Feature Extraction and Recommender System Implementation**"
      ],
      "metadata": {
        "id": "a7FfzJaoUgJP"
      }
    },
    {
      "cell_type": "markdown",
      "source": [
        "**Combine product data with descriptions and ingredients for each store.**"
      ],
      "metadata": {
        "id": "XtAtlLCRBJsi"
      }
    },
    {
      "cell_type": "code",
      "source": [
        "ulta_combined = ulta_products.join(ulta_product_description, \"Product ID\", \"inner\").join(ulta_ingredients, \"Product ID\", \"inner\")\n",
        "target_combined = target_products.join(target_product_description, \"Product ID\", \"inner\").join(target_ingredients, \"Product ID\", \"inner\")"
      ],
      "metadata": {
        "id": "wwIC3nCyPPvX"
      },
      "execution_count": 8,
      "outputs": []
    },
    {
      "cell_type": "markdown",
      "source": [
        "**Check if the \"Brand\" and \"Product Name\" values are correct.**"
      ],
      "metadata": {
        "id": "52rj5nOGBObc"
      }
    },
    {
      "cell_type": "code",
      "source": [
        "ulta_combined.show(10)"
      ],
      "metadata": {
        "colab": {
          "base_uri": "https://localhost:8080/"
        },
        "id": "XOAJdmkgPTx6",
        "outputId": "ab2b4c21-7c72-444c-ca3a-6c43173d73bd"
      },
      "execution_count": 62,
      "outputs": [
        {
          "output_type": "stream",
          "name": "stdout",
          "text": [
            "+----------+----------------+--------------------+----------------+------+-----------------+--------------------+------------+--------------------+--------------------+--------------------+--------------------+--------------------+\n",
            "|Product ID|           Brand|        Product Name|           Price|Rating|Number of Ratings|                Link|Product Type|         Picture URL|         Description|        Health Facts|          Highlights| Product Ingredients|\n",
            "+----------+----------------+--------------------+----------------+------+-----------------+--------------------+------------+--------------------+--------------------+--------------------+--------------------+--------------------+\n",
            "|        U1|NatureLab. Tokyo|Perfect Clean 2-I...|         $19.00 |   4.7|             1027|https://www.ulta....|     Shampoo|https://media.ult...|The NatureLab. To...|Cruelty Free, Sus...| A refreshingly l...|Sucrose, Glycerin...|\n",
            "|        U2|       Color Wow|Dream Filter Pre-...|         $24.00 |   4.6|             2172|https://www.ulta....|     Shampoo|https://media.ult...|Color Wow Dream F...|                NULL|Fastest, easiest ...|Aqua/Water, Acryl...|\n",
            "|        U3|        Viviscal|Volumizing Dry Sh...|         $19.99 |   4.5|              225|https://www.ulta....|     Shampoo|https://media.ult...|Viviscal Volumizi...|Sustainable Packa...|Instantly refresh...|Butane, Hydrofluo...|\n",
            "|        U4|         Garnier|Fructis Hair Fill...|          $9.99 |   4.6|              224|https://www.ulta....|     Shampoo|https://media.ult...|Garnier Fructis H...| Vegan, Cruelty Free|Garnier Frutis su...|1101918 FS2 - Ing...|\n",
            "|        U5|         Biolage|  Color Last Shampoo|$24.00 - $42.00 |   4.5|             3378|https://www.ulta....|     Shampoo|https://media.ult...|Biolage Color Las...|Vegan, Cruelty Fr...|Low pH shampoo fo...|Aqua / Water / Ea...|\n",
            "|        U6|    Living Proof|Perfect Hair Day ...|$30.00 - $43.00 |   4.5|             2809|https://www.ulta....|     Shampoo|https://media.ult...|Perfect Hair Day ...|Vegan, Clean Ingr...|Absorbs oil, swea...|Hydrofluorocarbon...|\n",
            "|        U7|       Pureology|Strength Cure Sha...|$37.00 - $90.00 |   4.6|             3300|https://www.ulta....|     Shampoo|https://media.ult...|Pureology's Stren...|Vegan, Sustainabl...|Helps heal damage...|Aqua/Water/Eau, S...|\n",
            "|        U8|   Paul Mitchell|Tea Tree Special ...|$20.00 - $50.00 |   4.5|             3489|https://www.ulta....|     Shampoo|https://media.ult...|Forget the ordina...|Cruelty Free, Sus...|NOTE: Paul Mitche...|Aqua (Water, Eau)...|\n",
            "|        U9|    Living Proof|Perfect hair Day ...|$33.00 - $45.00 |   4.7|             1416|https://www.ulta....|     Shampoo|https://media.ult...|Living Proof Perf...|Vegan, Clean Ingr...|Leaves no visible...|Hydrofluorocarbon...|\n",
            "|       U10|          Redken|Acidic Color Glos...|$33.00 - $64.00 |   4.7|              674|https://www.ulta....|     Shampoo|https://media.ult...|Redken Acidic Col...|Sustainable Packa...|Extends color vib...|Aqua / Water / Ea...|\n",
            "+----------+----------------+--------------------+----------------+------+-----------------+--------------------+------------+--------------------+--------------------+--------------------+--------------------+--------------------+\n",
            "only showing top 10 rows\n",
            "\n"
          ]
        }
      ]
    },
    {
      "cell_type": "code",
      "source": [
        "target_combined.show(5)"
      ],
      "metadata": {
        "colab": {
          "base_uri": "https://localhost:8080/"
        },
        "id": "lFfg7WwaQJ_t",
        "outputId": "76b3b8f8-5ae1-4349-eaa4-8d674e29d629"
      },
      "execution_count": 57,
      "outputs": [
        {
          "output_type": "stream",
          "name": "stdout",
          "text": [
            "+----------+--------------------+--------+-------------+------+-----------------+--------------------+------------+--------------------+--------------------+--------------------+--------------------+--------------------+\n",
            "|Product ID|        Product Name|   Brand|        Price|Rating|Number of Ratings|                Link|Product Type|         Picture URL|         Description|        Health Facts|          Highlights| Product Ingredients|\n",
            "+----------+--------------------+--------+-------------+------+-----------------+--------------------+------------+--------------------+--------------------+--------------------+--------------------+--------------------+\n",
            "|        T1|Eva NYC Freshen U...| Eva NYC|       $13.99|   4.5|             3177|https://www.targe...|     Shampoo|https://target.sc...|Eva NYC Freshen U...|                NULL|                NULL|Hydrofluorocarbon...|\n",
            "|        T2|Batiste Tropical ...| Batiste|$4.39 - $8.99|   4.5|             1303|https://www.targe...|     Shampoo|https://target.sc...|Take your hair fr...|Phthalate-Free, P...|Batiste is the wo...|Butane, Isobutane...|\n",
            "|        T3|Batiste Tropical ...| Batiste|       $12.99|   4.7|              321|https://www.targe...|     Shampoo|https://target.sc...|Take your hair fr...|Phthalate-Free, P...|Batiste is worth ...|Butane, Hydrofluo...|\n",
            "|        T8|Batiste Texturizi...| Batiste|       $10.49|   4.6|              154|https://www.targe...|     Shampoo|https://target.sc...|New Batiste Textu...|Contains Argan Oi...|New from the #1 d...|Butane, Isobutane...|\n",
            "|       T10|Viviscal Dry Sham...|Viviscal|       $12.99|   4.5|              226|https://www.targe...|     Shampoo|https://target.sc...|At Viviscal, we u...|Contains Argan Oi...|Instantly refresh...|Butane, Hydrofluo...|\n",
            "+----------+--------------------+--------+-------------+------+-----------------+--------------------+------------+--------------------+--------------------+--------------------+--------------------+--------------------+\n",
            "only showing top 5 rows\n",
            "\n"
          ]
        }
      ]
    },
    {
      "cell_type": "markdown",
      "source": [
        "**Combining, Tokenizing, and Feature Engineering Product Data**"
      ],
      "metadata": {
        "id": "FBi_89BtBd4U"
      }
    },
    {
      "cell_type": "code",
      "source": [
        "# Ensure both DataFrames have the same column order before union\n",
        "ordered_columns = [\"Product ID\", \"Brand\", \"Product Name\", \"Price\", \"Rating\", \"Number of Ratings\", \"Link\", \"Product Type\", \"Picture URL\", \"Description\", \"Health Facts\", \"Highlights\", \"Product Ingredients\"]\n",
        "\n",
        "# Select columns in the same order\n",
        "ulta_combined_ordered = ulta_combined.select(*ordered_columns)\n",
        "target_combined_ordered = target_combined.select(*ordered_columns)\n",
        "\n",
        "# Union the data from both stores\n",
        "combined_data = ulta_combined_ordered.union(target_combined_ordered)\n",
        "\n",
        "# Directly using DataFrame API to get distinct brands\n",
        "distinct_brands = combined_data.select(\"Brand\").distinct().collect()\n",
        "distinct_product_types = combined_data.select(\"Product Type\").distinct().collect()\n",
        "\n",
        "# Converting rows to list of strings for easier use in application\n",
        "list_of_brands = [row['Brand'] for row in distinct_brands if row['Brand'] is not None]\n",
        "list_of_product_types = [row['Product Type'] for row in distinct_product_types if row['Product Type'] is not None]\n",
        "\n",
        "# Tokenize ingredients\n",
        "tokenizer = Tokenizer(inputCol=\"Product Ingredients\", outputCol=\"words\")\n",
        "words_data = tokenizer.transform(combined_data)\n",
        "\n",
        "# Compute TF-IDF for ingredient lists\n",
        "hashing_tf = HashingTF(inputCol=\"words\", outputCol=\"rawFeatures\", numFeatures=20)\n",
        "featurized_data = hashing_tf.transform(words_data)\n",
        "idf = IDF(inputCol=\"rawFeatures\", outputCol=\"ingredient_features\")\n",
        "idf_model = idf.fit(featurized_data)\n",
        "rescaled_data = idf_model.transform(featurized_data)\n",
        "\n",
        "# Index product type\n",
        "indexer = StringIndexer(inputCol=\"Product Type\", outputCol=\"product_type_index\")\n",
        "indexed_data = indexer.fit(rescaled_data).transform(rescaled_data)\n",
        "\n",
        "# Combine features\n",
        "assembler = VectorAssembler(inputCols=[\"ingredient_features\", \"product_type_index\"], outputCol=\"features\")\n",
        "final_data = assembler.transform(indexed_data)"
      ],
      "metadata": {
        "id": "1xh5W0wuCl2K"
      },
      "execution_count": 9,
      "outputs": []
    },
    {
      "cell_type": "markdown",
      "source": [
        "**Check if the \"Brand\" and \"Product Name\" values are correct.**"
      ],
      "metadata": {
        "id": "hC7SQQo1B-kP"
      }
    },
    {
      "cell_type": "code",
      "source": [
        "# Check the data before and after joins\n",
        "ulta_combined.explain()\n",
        "ulta_combined.show(5)"
      ],
      "metadata": {
        "colab": {
          "base_uri": "https://localhost:8080/"
        },
        "id": "_lTxEQsZM_RP",
        "outputId": "c91d3e7a-7653-4ce6-cab8-5b6539687520"
      },
      "execution_count": 60,
      "outputs": [
        {
          "output_type": "stream",
          "name": "stdout",
          "text": [
            "== Physical Plan ==\n",
            "AdaptiveSparkPlan isFinalPlan=false\n",
            "+- Project [Product ID#3751, Brand#3744, Product Name#3745, Price#3746, Rating#3747, Number of Ratings#3748, Link#3749, Product Type#3750, Picture URL#3778, Description#3779, Health Facts#3780, Highlights#3781, Product Ingredients#3805]\n",
            "   +- BroadcastHashJoin [Product ID#3751], [Product ID#3804], Inner, BuildRight, false\n",
            "      :- Project [Product ID#3751, Brand#3744, Product Name#3745, Price#3746, Rating#3747, Number of Ratings#3748, Link#3749, Product Type#3750, Picture URL#3778, Description#3779, Health Facts#3780, Highlights#3781]\n",
            "      :  +- BroadcastHashJoin [Product ID#3751], [Product ID#3777], Inner, BuildLeft, false\n",
            "      :     :- BroadcastExchange HashedRelationBroadcastMode(List(input[7, string, false]),false), [plan_id=17590]\n",
            "      :     :  +- Filter isnotnull(Product ID#3751)\n",
            "      :     :     +- FileScan csv [Brand#3744,Product Name#3745,Price#3746,Rating#3747,Number of Ratings#3748,Link#3749,Product Type#3750,Product ID#3751] Batched: false, DataFilters: [isnotnull(Product ID#3751)], Format: CSV, Location: InMemoryFileIndex(1 paths)[file:/content/drive/MyDrive/Capstone Project - Summer 2024/Final Datas..., PartitionFilters: [], PushedFilters: [IsNotNull(Product ID)], ReadSchema: struct<Brand:string,Product Name:string,Price:string,Rating:double,Number of Ratings:int,Link:str...\n",
            "      :     +- Filter isnotnull(Product ID#3777)\n",
            "      :        +- FileScan csv [Product ID#3777,Picture URL#3778,Description#3779,Health Facts#3780,Highlights#3781] Batched: false, DataFilters: [isnotnull(Product ID#3777)], Format: CSV, Location: InMemoryFileIndex(1 paths)[file:/content/drive/MyDrive/Capstone Project - Summer 2024/Final Datas..., PartitionFilters: [], PushedFilters: [IsNotNull(Product ID)], ReadSchema: struct<Product ID:string,Picture URL:string,Description:string,Health Facts:string,Highlights:str...\n",
            "      +- BroadcastExchange HashedRelationBroadcastMode(List(input[0, string, false]),false), [plan_id=17594]\n",
            "         +- Filter isnotnull(Product ID#3804)\n",
            "            +- FileScan csv [Product ID#3804,Product Ingredients#3805] Batched: false, DataFilters: [isnotnull(Product ID#3804)], Format: CSV, Location: InMemoryFileIndex(1 paths)[file:/content/drive/MyDrive/Capstone Project - Summer 2024/Final Datas..., PartitionFilters: [], PushedFilters: [IsNotNull(Product ID)], ReadSchema: struct<Product ID:string,Product Ingredients:string>\n",
            "\n",
            "\n",
            "+----------+----------------+--------------------+----------------+------+-----------------+--------------------+------------+--------------------+--------------------+--------------------+--------------------+--------------------+\n",
            "|Product ID|           Brand|        Product Name|           Price|Rating|Number of Ratings|                Link|Product Type|         Picture URL|         Description|        Health Facts|          Highlights| Product Ingredients|\n",
            "+----------+----------------+--------------------+----------------+------+-----------------+--------------------+------------+--------------------+--------------------+--------------------+--------------------+--------------------+\n",
            "|        U1|NatureLab. Tokyo|Perfect Clean 2-I...|         $19.00 |   4.7|             1027|https://www.ulta....|     Shampoo|https://media.ult...|The NatureLab. To...|Cruelty Free, Sus...| A refreshingly l...|Sucrose, Glycerin...|\n",
            "|        U2|       Color Wow|Dream Filter Pre-...|         $24.00 |   4.6|             2172|https://www.ulta....|     Shampoo|https://media.ult...|Color Wow Dream F...|                NULL|Fastest, easiest ...|Aqua/Water, Acryl...|\n",
            "|        U3|        Viviscal|Volumizing Dry Sh...|         $19.99 |   4.5|              225|https://www.ulta....|     Shampoo|https://media.ult...|Viviscal Volumizi...|Sustainable Packa...|Instantly refresh...|Butane, Hydrofluo...|\n",
            "|        U4|         Garnier|Fructis Hair Fill...|          $9.99 |   4.6|              224|https://www.ulta....|     Shampoo|https://media.ult...|Garnier Fructis H...| Vegan, Cruelty Free|Garnier Frutis su...|1101918 FS2 - Ing...|\n",
            "|        U5|         Biolage|  Color Last Shampoo|$24.00 - $42.00 |   4.5|             3378|https://www.ulta....|     Shampoo|https://media.ult...|Biolage Color Las...|Vegan, Cruelty Fr...|Low pH shampoo fo...|Aqua / Water / Ea...|\n",
            "+----------+----------------+--------------------+----------------+------+-----------------+--------------------+------------+--------------------+--------------------+--------------------+--------------------+--------------------+\n",
            "only showing top 5 rows\n",
            "\n"
          ]
        }
      ]
    },
    {
      "cell_type": "code",
      "source": [
        "target_combined.explain()\n",
        "target_combined.show(5)"
      ],
      "metadata": {
        "colab": {
          "base_uri": "https://localhost:8080/"
        },
        "id": "VefQLnZrOsOR",
        "outputId": "6e0e2740-7a63-4354-b155-6183002f1ce7"
      },
      "execution_count": 61,
      "outputs": [
        {
          "output_type": "stream",
          "name": "stdout",
          "text": [
            "== Physical Plan ==\n",
            "AdaptiveSparkPlan isFinalPlan=false\n",
            "+- Project [Product ID#3832, Product Name#3825, Brand#3826, Price#3827, Rating#3828, Number of Ratings#3829, Link#3830, Product Type#3831, Picture URL#3859, Description#3860, Health Facts#3861, Highlights#3862, Product Ingredients#3886]\n",
            "   +- BroadcastHashJoin [Product ID#3832], [Product ID#3885], Inner, BuildRight, false\n",
            "      :- Project [Product ID#3832, Product Name#3825, Brand#3826, Price#3827, Rating#3828, Number of Ratings#3829, Link#3830, Product Type#3831, Picture URL#3859, Description#3860, Health Facts#3861, Highlights#3862]\n",
            "      :  +- BroadcastHashJoin [Product ID#3832], [Product ID#3858], Inner, BuildLeft, false\n",
            "      :     :- BroadcastExchange HashedRelationBroadcastMode(List(input[7, string, false]),false), [plan_id=17794]\n",
            "      :     :  +- Filter isnotnull(Product ID#3832)\n",
            "      :     :     +- FileScan csv [Product Name#3825,Brand#3826,Price#3827,Rating#3828,Number of Ratings#3829,Link#3830,Product Type#3831,Product ID#3832] Batched: false, DataFilters: [isnotnull(Product ID#3832)], Format: CSV, Location: InMemoryFileIndex(1 paths)[file:/content/drive/MyDrive/Capstone Project - Summer 2024/Cleaned Dat..., PartitionFilters: [], PushedFilters: [IsNotNull(Product ID)], ReadSchema: struct<Product Name:string,Brand:string,Price:string,Rating:double,Number of Ratings:int,Link:str...\n",
            "      :     +- Filter isnotnull(Product ID#3858)\n",
            "      :        +- FileScan csv [Product ID#3858,Picture URL#3859,Description#3860,Health Facts#3861,Highlights#3862] Batched: false, DataFilters: [isnotnull(Product ID#3858)], Format: CSV, Location: InMemoryFileIndex(1 paths)[file:/content/drive/MyDrive/Capstone Project - Summer 2024/Final Datas..., PartitionFilters: [], PushedFilters: [IsNotNull(Product ID)], ReadSchema: struct<Product ID:string,Picture URL:string,Description:string,Health Facts:string,Highlights:str...\n",
            "      +- BroadcastExchange HashedRelationBroadcastMode(List(input[0, string, false]),false), [plan_id=17798]\n",
            "         +- Filter isnotnull(Product ID#3885)\n",
            "            +- FileScan csv [Product ID#3885,Product Ingredients#3886] Batched: false, DataFilters: [isnotnull(Product ID#3885)], Format: CSV, Location: InMemoryFileIndex(1 paths)[file:/content/drive/MyDrive/Capstone Project - Summer 2024/Final Datas..., PartitionFilters: [], PushedFilters: [IsNotNull(Product ID)], ReadSchema: struct<Product ID:string,Product Ingredients:string>\n",
            "\n",
            "\n",
            "+----------+--------------------+--------+-------------+------+-----------------+--------------------+------------+--------------------+--------------------+--------------------+--------------------+--------------------+\n",
            "|Product ID|        Product Name|   Brand|        Price|Rating|Number of Ratings|                Link|Product Type|         Picture URL|         Description|        Health Facts|          Highlights| Product Ingredients|\n",
            "+----------+--------------------+--------+-------------+------+-----------------+--------------------+------------+--------------------+--------------------+--------------------+--------------------+--------------------+\n",
            "|        T1|Eva NYC Freshen U...| Eva NYC|       $13.99|   4.5|             3177|https://www.targe...|     Shampoo|https://target.sc...|Eva NYC Freshen U...|                NULL|                NULL|Hydrofluorocarbon...|\n",
            "|        T2|Batiste Tropical ...| Batiste|$4.39 - $8.99|   4.5|             1303|https://www.targe...|     Shampoo|https://target.sc...|Take your hair fr...|Phthalate-Free, P...|Batiste is the wo...|Butane, Isobutane...|\n",
            "|        T3|Batiste Tropical ...| Batiste|       $12.99|   4.7|              321|https://www.targe...|     Shampoo|https://target.sc...|Take your hair fr...|Phthalate-Free, P...|Batiste is worth ...|Butane, Hydrofluo...|\n",
            "|        T8|Batiste Texturizi...| Batiste|       $10.49|   4.6|              154|https://www.targe...|     Shampoo|https://target.sc...|New Batiste Textu...|Contains Argan Oi...|New from the #1 d...|Butane, Isobutane...|\n",
            "|       T10|Viviscal Dry Sham...|Viviscal|       $12.99|   4.5|              226|https://www.targe...|     Shampoo|https://target.sc...|At Viviscal, we u...|Contains Argan Oi...|Instantly refresh...|Butane, Hydrofluo...|\n",
            "+----------+--------------------+--------+-------------+------+-----------------+--------------------+------------+--------------------+--------------------+--------------------+--------------------+--------------------+\n",
            "only showing top 5 rows\n",
            "\n"
          ]
        }
      ]
    },
    {
      "cell_type": "code",
      "source": [
        "# After assembling the final data\n",
        "final_data = assembler.transform(indexed_data)\n",
        "\n",
        "# Print the schema of the final_data DataFrame to verify columns\n",
        "final_data.printSchema()"
      ],
      "metadata": {
        "colab": {
          "base_uri": "https://localhost:8080/"
        },
        "id": "hCNSKBuQCj7Q",
        "outputId": "bab7fdca-99f6-436e-f120-2193658ecd85"
      },
      "execution_count": 10,
      "outputs": [
        {
          "output_type": "stream",
          "name": "stdout",
          "text": [
            "root\n",
            " |-- Product ID: string (nullable = true)\n",
            " |-- Brand: string (nullable = true)\n",
            " |-- Product Name: string (nullable = true)\n",
            " |-- Price: string (nullable = true)\n",
            " |-- Rating: double (nullable = true)\n",
            " |-- Number of Ratings: integer (nullable = true)\n",
            " |-- Link: string (nullable = true)\n",
            " |-- Product Type: string (nullable = true)\n",
            " |-- Picture URL: string (nullable = true)\n",
            " |-- Description: string (nullable = true)\n",
            " |-- Health Facts: string (nullable = true)\n",
            " |-- Highlights: string (nullable = true)\n",
            " |-- Product Ingredients: string (nullable = true)\n",
            " |-- words: array (nullable = true)\n",
            " |    |-- element: string (containsNull = true)\n",
            " |-- rawFeatures: vector (nullable = true)\n",
            " |-- ingredient_features: vector (nullable = true)\n",
            " |-- product_type_index: double (nullable = false)\n",
            " |-- features: vector (nullable = true)\n",
            "\n"
          ]
        }
      ]
    },
    {
      "cell_type": "code",
      "source": [
        "list_of_product_types"
      ],
      "metadata": {
        "colab": {
          "base_uri": "https://localhost:8080/"
        },
        "id": "lSMedSvBIxs9",
        "outputId": "87675224-2cb2-4251-f1e9-2eaac426a08c"
      },
      "execution_count": 67,
      "outputs": [
        {
          "output_type": "execute_result",
          "data": {
            "text/plain": [
              "['Custard',\n",
              " 'Mousse',\n",
              " 'Rinse-Out Treatment',\n",
              " 'Leave-In Treatment',\n",
              " 'Serum',\n",
              " 'Styling Leave-In Spray',\n",
              " 'Leave-In Conditioner',\n",
              " 'Rinse-Out Conditioner',\n",
              " 'Co-Wash',\n",
              " 'Cream',\n",
              " 'Oil',\n",
              " 'Hair Mask',\n",
              " 'Gel',\n",
              " 'Shampoo',\n",
              " 'Pomade']"
            ]
          },
          "metadata": {},
          "execution_count": 67
        }
      ]
    },
    {
      "cell_type": "code",
      "source": [
        "list_of_brands"
      ],
      "metadata": {
        "colab": {
          "base_uri": "https://localhost:8080/"
        },
        "id": "gOH77GA3IA1m",
        "outputId": "4513cb53-e82a-4935-e5d8-071ca88a01ee"
      },
      "execution_count": 26,
      "outputs": [
        {
          "output_type": "execute_result",
          "data": {
            "text/plain": [
              "['Coco & Eve',\n",
              " 'KRISTIN ESS HAIR',\n",
              " 'Innersense Organic Beauty',\n",
              " 'SheaMoisture',\n",
              " 'Chi',\n",
              " 'Philosophy',\n",
              " 'CURLS',\n",
              " 'IGK',\n",
              " 'Bed Head',\n",
              " 'Bondi Boost',\n",
              " 'Melanin Haircare',\n",
              " 'OLAPLEX',\n",
              " 'BREAD BEAUTY SUPPLY',\n",
              " 'FEKKAI',\n",
              " 'Keratin Complex',\n",
              " \"L'anza\",\n",
              " 'Maui Moisture',\n",
              " 'Sexy Hair',\n",
              " 'LolaVie',\n",
              " 'Curlsmith',\n",
              " 'Batiste',\n",
              " \"DONNA'S RECIPE\",\n",
              " 'Biosilk',\n",
              " 'Pureology',\n",
              " 'Ouidad',\n",
              " 'Kitsch',\n",
              " 'Virtue',\n",
              " 'AG Care',\n",
              " 'MONDAY Haircare',\n",
              " 'DERMA E',\n",
              " 'Garnier',\n",
              " 'Verb',\n",
              " 'Better Not Younger',\n",
              " 'American Crew',\n",
              " 'Beachwaver Co.',\n",
              " 'DevaCurl',\n",
              " 'Briogeo',\n",
              " 'Mielle',\n",
              " 'Viviscal',\n",
              " 'Sebastian',\n",
              " 'Andrew Fitzsimons',\n",
              " \"L'Oréal\",\n",
              " 'Keranique',\n",
              " 'Matrix',\n",
              " 'Pacifica',\n",
              " 'Hot Tools',\n",
              " 'Joico',\n",
              " 'Drybar',\n",
              " 'tgin',\n",
              " 'Klorane',\n",
              " 'Kenra Professional',\n",
              " 'OUAI',\n",
              " 'Divi',\n",
              " \"L'ange\",\n",
              " 'Odele',\n",
              " 'Living Proof',\n",
              " \"Not Your Mother's\",\n",
              " 'Eva Nyc',\n",
              " 'Redken',\n",
              " 'Paul Mitchell',\n",
              " 'The Ordinary',\n",
              " 'Blind Barber',\n",
              " 'Sun Bum',\n",
              " 'florence by mills',\n",
              " 'Nexxus',\n",
              " 'Bumble and bumble',\n",
              " 'NatureLab. Tokyo',\n",
              " 'SEEN',\n",
              " 'UNITE Hair',\n",
              " 'PATTERN',\n",
              " 'dpHUE',\n",
              " \"It's A 10\",\n",
              " \"Carol's Daughter\",\n",
              " 'OGX',\n",
              " 'Biolage',\n",
              " 'Alterna',\n",
              " 'Hask',\n",
              " 'Drunk Elephant',\n",
              " 'Color Wow',\n",
              " 'Sol de Janeiro',\n",
              " 'Nioxin',\n",
              " 'Wella',\n",
              " \"Palmer's\",\n",
              " 'Method',\n",
              " 'Pantene',\n",
              " 'Desert Essence',\n",
              " 'Love Beauty and Planet',\n",
              " 'philosophy',\n",
              " 'Mielle Organics',\n",
              " 'Eva NYC',\n",
              " 'CURLSMITH',\n",
              " 'Got2B',\n",
              " 'Selsun Blue',\n",
              " 'The Doux',\n",
              " 'Neutrogena',\n",
              " 'Raw Sugar',\n",
              " 'Rizos Curls',\n",
              " 'Taliah Waajid',\n",
              " 'VERB',\n",
              " 'Wet Line',\n",
              " 'Urban Hydration',\n",
              " 'My Black is Beautiful',\n",
              " 'Tea Tree',\n",
              " 'Aveeno',\n",
              " 'hers',\n",
              " 'Function of Beauty',\n",
              " \"It's a 10\",\n",
              " \"Miss Jessie's\",\n",
              " 'Native',\n",
              " 'Briogeo Hair Care',\n",
              " 'Head & Shoulders',\n",
              " 'derma e',\n",
              " 'Creme of Nature',\n",
              " \"L'Oreal Paris\",\n",
              " 'Tresemme',\n",
              " \"Uncle Funky's Daughter\",\n",
              " 'African Pride',\n",
              " 'California Naturals',\n",
              " 'Aussie',\n",
              " 'Bumble and Bumble',\n",
              " 'As I Am',\n",
              " 'hims',\n",
              " 'TGIN',\n",
              " 'The Honest Company',\n",
              " 'Herbal Essences',\n",
              " 'TIGI',\n",
              " \"Pura d'or\",\n",
              " 'Jamaican Mango & Lime',\n",
              " \"Aunt Jackie's\",\n",
              " 'ECO STYLE',\n",
              " 'Happy Hair People',\n",
              " 'John Frieda',\n",
              " 'Nizoral',\n",
              " 'Cantu',\n",
              " 'CHI',\n",
              " 'Camille Rose',\n",
              " 'Dove Beauty',\n",
              " 'Kristin Ess']"
            ]
          },
          "metadata": {},
          "execution_count": 26
        }
      ]
    },
    {
      "cell_type": "markdown",
      "source": [
        "**Retrieve Recommendations for each Product**"
      ],
      "metadata": {
        "id": "DAO6yYxICA_T"
      }
    },
    {
      "cell_type": "code",
      "source": [
        "from pyspark.sql.types import StructType, StructField, StringType, ArrayType\n",
        "\n",
        "# Broadcast the entire DataFrame's features for comparison\n",
        "features_df = final_data.select(\"Product ID\", \"features\")\n",
        "\n",
        "# Define the schema\n",
        "schema = StructType([\n",
        "    StructField(\"Product ID\", StringType(), True),\n",
        "    StructField(\"Recommendations\", ArrayType(StringType(), True), True)\n",
        "])\n",
        "\n",
        "# Create an empty DataFrame with the defined schema\n",
        "all_recommendations = spark.createDataFrame([], schema)\n",
        "\n",
        "# Iterate through each product to find its recommendations\n",
        "for row in final_data.collect():\n",
        "    product_id = row[\"Product ID\"]\n",
        "    features = row[\"features\"]\n",
        "    broadcasted_features = spark.sparkContext.broadcast(features)\n",
        "\n",
        "    # Define cosine similarity UDF\n",
        "    @udf(FloatType())\n",
        "    def cosine_similarity(features):\n",
        "        dot_product = features.dot(broadcasted_features.value)\n",
        "        norm_product = features.norm(2) * broadcasted_features.value.norm(2)\n",
        "        return float(dot_product / norm_product) if norm_product != 0 else 0\n",
        "\n",
        "    # Apply the UDF to compute similarity with all other products\n",
        "    similarities = features_df.withColumn(\"Similarity\", cosine_similarity(col(\"features\")))\n",
        "    top_recommendations = similarities.filter(col(\"Product ID\") != product_id) \\\n",
        "                                      .orderBy(col(\"Similarity\").desc()) \\\n",
        "                                      .limit(10) \\\n",
        "                                      .select(\"Product ID\") \\\n",
        "                                      .rdd.flatMap(lambda x: x) \\\n",
        "                                      .collect()\n",
        "\n",
        "    # Append to the DataFrame\n",
        "    new_row = spark.createDataFrame([(product_id, top_recommendations)], schema)\n",
        "    all_recommendations = all_recommendations.union(new_row)"
      ],
      "metadata": {
        "id": "8S2o-Z2HfJr3"
      },
      "execution_count": 17,
      "outputs": []
    },
    {
      "cell_type": "markdown",
      "source": [
        "**Download `final_data`, which contains all the product information, and `all_recommendations`, which contains a list of recommendations for each product.**"
      ],
      "metadata": {
        "id": "DqLb0dO1AVDJ"
      }
    },
    {
      "cell_type": "code",
      "source": [
        "# all_recommendations.coalesce(5).write.json(\"System2Recommendations.json\")\n",
        "# final_data.write.json(\"final_data.json\")"
      ],
      "metadata": {
        "id": "lTn5EUpBviqP"
      },
      "execution_count": 24,
      "outputs": []
    }
  ]
}